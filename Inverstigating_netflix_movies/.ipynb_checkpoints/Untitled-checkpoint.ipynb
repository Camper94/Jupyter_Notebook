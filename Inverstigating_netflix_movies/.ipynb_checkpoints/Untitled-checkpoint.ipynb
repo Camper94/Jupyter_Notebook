{
 "cells": [
  {
   "cell_type": "markdown",
   "metadata": {},
   "source": [
    "<center><img src=\"netflix.jpg\"></center>"
   ]
  },
  {
   "cell_type": "markdown",
   "metadata": {},
   "source": [
    "**Netflix**! What started in 1997 as a DVD rental service has since exploded into one of the largest entertainment and media companies.\n",
    "\n",
    "Given the large number of movies and series available on the platform, it is a perfect opportunity to flex your exploratory data analysis skills and dive into the entertainment industry.\n",
    "\n",
    "You work for a production company that specializes in nostalgic styles. You want to do some research on movies released in the 1990's. You'll delve into Netflix data and perform exploratory data analysis to better understand this awesome movie decade!\n",
    "\n",
    "You have been supplied with the dataset `netflix_data.csv`, along with the following table detailing the column names and descriptions. Feel free to experiment further after submitting!\n",
    "\n",
    "## The data\n",
    "### **netflix_data.csv**\n",
    "| Column | Description |\n",
    "|--------|-------------|\n",
    "| `show_id` | The ID of the show |\n",
    "| `type` | Type of show |\n",
    "| `title` | Title of the show |\n",
    "| `director` | Director of the show |\n",
    "| `cast` | Cast of the show |\n",
    "| `country` | Country of origin |\n",
    "| `date_added` | Date added to Netflix |\n",
    "| `release_year` | Year of Netflix release |\n",
    "| `duration` | Duration of the show in minutes |\n",
    "| `description` | Description of the show |\n",
    "| `genre` | Show genre |"
   ]
  },
  {
   "cell_type": "code",
   "execution_count": 5,
   "metadata": {
    "scrolled": true
   },
   "outputs": [],
   "source": [
    "# Importing pandas and matplotlib\n",
    "import pandas as pd\n",
    "import matplotlib.pyplot as plt\n",
    "import numpy as np\n",
    "# Read in the Netflix CSV as a DataFrame\n",
    "netflix_df = pd.read_csv(\"netflix_data.csv\")"
   ]
  },
  {
   "cell_type": "code",
   "execution_count": 6,
   "metadata": {},
   "outputs": [
    {
     "data": {
      "image/png": "[encoded data removed]",
      "text/plain": [
       "<Figure size 432x288 with 1 Axes>"
      ]
     },
     "metadata": {
      "needs_background": "light"
     },
     "output_type": "display_data"
    }
   ],
   "source": [
    "# Start coding here! Use as many cells as you like\n",
    "movies_1900s = []\n",
    "duration_mv_1900s = []\n",
    "short_movie_count = 0\n",
    "for lab, row in netflix_df.iterrows():\n",
    "    value = [row[\"title\"],str(row[\"release_year\"]),row[\"genre\"],row[\"duration\"],row[\"type\"]]\n",
    "    if int(value[1]) > 1989 and int(value[1]) < 2000:\n",
    "        movies_1900s.append(value)\n",
    "        duration_mv_1900s.append(value[3])\n",
    "        if value[2] == \"Action\" and int(value[3]) < 90 and value[4] == \"Movie\":\n",
    "            short_movie_count = short_movie_count + 1\n",
    "\n",
    "plt.hist(duration_mv_1900s,bins = 30)\n",
    "plt.xlabel('Duration')\n",
    "plt.ylabel('Frequency')\n",
    "plt.title('Histogram of movies frequency duration')\n",
    "\n",
    "plt.show()\n",
    "\n",
    "duration = int(np.median(duration_mv_1900s))"
   ]
  },
  {
   "cell_type": "markdown",
   "metadata": {},
   "source": [
    "As observed in the histogram, there is no clear frequency pattern to identify **the most frequent movie duration**. A more effective approach to understanding the typical movie duration is to consider the median, as shown below:"
   ]
  },
  {
   "cell_type": "code",
   "execution_count": 8,
   "metadata": {},
   "outputs": [
    {
     "name": "stdout",
     "output_type": "stream",
     "text": [
      "the most frequent movie duration in the 1990s is :\n",
      "108\n",
      "the number of short action movies released in the 1990s is :\n",
      "7\n"
     ]
    }
   ],
   "source": [
    "print(\"the most frequent movie duration in the 1990s is :\")\n",
    "print(duration)\n",
    "print(\"the number of short action movies released in the 1990s is :\")\n",
    "print(short_movie_count)"
   ]
  }
 ],
 "metadata": {
  "kernelspec": {
   "display_name": "Python 3",
   "language": "python",
   "name": "python3"
  },
  "language_info": {
   "codemirror_mode": {
    "name": "ipython",
    "version": 3
   },
   "file_extension": ".py",
   "mimetype": "text/x-python",
   "name": "python",
   "nbconvert_exporter": "python",
   "pygments_lexer": "ipython3",
   "version": "3.7.3"
  }
 },
 "nbformat": 4,
 "nbformat_minor": 2
}
